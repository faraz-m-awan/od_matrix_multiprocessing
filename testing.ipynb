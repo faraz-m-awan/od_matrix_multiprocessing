{
 "cells": [
  {
   "cell_type": "code",
   "execution_count": null,
   "metadata": {},
   "outputs": [],
   "source": [
    "import pandas as pd\n",
    "import os\n",
    "from datetime import datetime\n"
   ]
  },
  {
   "cell_type": "code",
   "execution_count": null,
   "metadata": {},
   "outputs": [],
   "source": [
    "def getQuarter(x):\n",
    "    months=x.values\n",
    "    quarters=[]\n",
    "    for month in months:\n",
    "        if month>=1 and month<=3:\n",
    "            quarters.append(1)\n",
    "        elif month>=4 and month<=6:\n",
    "            quarters.append(2)\n",
    "        elif month>=7 and month<=9:\n",
    "            quarters.append(3)\n",
    "        elif month>=10 and month<=12:\n",
    "            quarters.append(4)\n",
    "\n",
    "    return quarters"
   ]
  },
  {
   "cell_type": "code",
   "execution_count": null,
   "metadata": {},
   "outputs": [],
   "source": [
    "year=2023\n",
    "radius=500"
   ]
  },
  {
   "cell_type": "code",
   "execution_count": null,
   "metadata": {},
   "outputs": [],
   "source": [
    "df=pd.read_csv('U:\\\\Projects\\\\Huq\\\\Faraz\\\\final_OD_work\\\\2023\\\\trips\\\\temp_trip_500m_2023.csv',parse_dates=['org_arival_time','org_leaving_time','dest_arival_time'])\n",
    "df"
   ]
  },
  {
   "cell_type": "code",
   "execution_count": null,
   "metadata": {},
   "outputs": [],
   "source": [
    "df=df.assign(trip_id=lambda df: df.groupby(['uid'])['trip_time'].transform(lambda x: [i for i in range(1,len(x)+1)]))\n",
    "\n",
    "\n",
    "df=df[['uid','trip_id', 'org_lat', 'org_lng', 'org_arival_time', 'org_leaving_time',\n",
    "'dest_lat', 'dest_lng', 'dest_arival_time', 'stay_points',\n",
    "'trip_points', 'trip_time', 'stay_duration', 'observed_stay_duration', \n",
    "'origin_oa_id','destination_oa_id', 'origin_dz_id','destination_dz_id', 'origin_iz_id', 'destination_iz_id',\n",
    "'origin_council_area_id','destination_council_area_id', 'origin_council_area_name','destination_council_area_name']]\n",
    "\n",
    "df"
   ]
  },
  {
   "cell_type": "code",
   "execution_count": null,
   "metadata": {},
   "outputs": [],
   "source": [
    "#############################################################\n",
    "#                                                           #\n",
    "#                    Calculate Total Trips/User             #\n",
    "#                                                           #\n",
    "#############################################################\n",
    "\n",
    "print(f'{datetime.now()}: Calculating Total Trips/User')\n",
    "df['month']=df['org_leaving_time'].dt.month\n",
    "df=df.assign(total_trips=lambda df: df.groupby('uid')['trip_id'].transform(lambda x: len(x)))\n",
    "df['quarter']=df.groupby(['uid','month'])['month'].transform(getQuarter)\n",
    "\n",
    "df.drop(columns=['month'],inplace=True)\n",
    "\n",
    "print(f'{datetime.now()}: Trips/User Calculated')"
   ]
  },
  {
   "cell_type": "code",
   "execution_count": null,
   "metadata": {},
   "outputs": [],
   "source": [
    "df['total_trips'].describe()"
   ]
  },
  {
   "cell_type": "code",
   "execution_count": null,
   "metadata": {},
   "outputs": [],
   "source": [
    "df[df['total_trips']>1000]['uid'].nunique()"
   ]
  },
  {
   "cell_type": "code",
   "execution_count": null,
   "metadata": {},
   "outputs": [],
   "source": [
    "print(f'{datetime.now()}: Calculating TPAD')\n",
    "active_day_df=pd.read_csv(f'U:\\\\Projects\\\\Huq\\\\Faraz\\\\final_OD_work\\\\{year}\\\\active_days_stat_{year}.csv')\n",
    "df=(\n",
    "    df.merge(active_day_df,how='left',left_on='uid',right_on='uid')\n",
    "    .assign(tpad=lambda tdf: tdf['total_trips']/tdf['total_active_days'])\n",
    "    )\n",
    "print(f'{datetime.now()}: TPAD Calculated')"
   ]
  },
  {
   "cell_type": "code",
   "execution_count": null,
   "metadata": {},
   "outputs": [],
   "source": [
    "df.head()"
   ]
  },
  {
   "cell_type": "code",
   "execution_count": null,
   "metadata": {},
   "outputs": [],
   "source": [
    "df['tpad'].describe()"
   ]
  },
  {
   "cell_type": "code",
   "execution_count": null,
   "metadata": {},
   "outputs": [],
   "source": [
    "df[df['total_trips']==651]"
   ]
  },
  {
   "cell_type": "code",
   "execution_count": null,
   "metadata": {},
   "outputs": [],
   "source": []
  }
 ],
 "metadata": {
  "kernelspec": {
   "display_name": "Python 3",
   "language": "python",
   "name": "python3"
  },
  "language_info": {
   "codemirror_mode": {
    "name": "ipython",
    "version": 3
   },
   "file_extension": ".py",
   "mimetype": "text/x-python",
   "name": "python",
   "nbconvert_exporter": "python",
   "pygments_lexer": "ipython3",
   "version": "3.11.2"
  }
 },
 "nbformat": 4,
 "nbformat_minor": 2
}
