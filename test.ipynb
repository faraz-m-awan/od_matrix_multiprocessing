{
 "cells": [
  {
   "cell_type": "code",
   "execution_count": null,
   "metadata": {},
   "outputs": [],
   "source": [
    "import pandas as pd"
   ]
  },
  {
   "cell_type": "code",
   "execution_count": null,
   "metadata": {},
   "outputs": [],
   "source": [
    "new_df=pd.read_csv('D:\\Mobile Device Data\\OD_calculation_latest_work\\HUQ_OD\\\\validation\\\\new_od_trip_df1.csv')\n",
    "#old_df=pd.read_csv('D:\\Mobile Device Data\\OD_calculation_latest_work\\HUQ_OD\\\\validation\\\\new_od_trip_df2.csv')\n",
    "weighted_trips=pd.read_csv('D:\\Mobile Device Data\\OD_calculation_latest_work\\HUQ_OD\\\\validation\\\\new_weighted_trip_df_.csv')"
   ]
  },
  {
   "cell_type": "code",
   "execution_count": null,
   "metadata": {},
   "outputs": [],
   "source": [
    "new_df"
   ]
  },
  {
   "cell_type": "code",
   "execution_count": null,
   "metadata": {},
   "outputs": [],
   "source": [
    "weighted_trips=weighted_trips[['uid','simd_weight','council_weight','activity_weight']]\n",
    "weighted_trips.drop_duplicates(subset='uid',keep='first',inplace=True)\n",
    "weighted_trips"
   ]
  },
  {
   "cell_type": "code",
   "execution_count": null,
   "metadata": {},
   "outputs": [],
   "source": [
    "new_df.merge(weighted_trips[['uid','activity_weight','simd_weight','council_weight']],how='left',left_on='uid',right_on='uid')"
   ]
  },
  {
   "cell_type": "code",
   "execution_count": null,
   "metadata": {},
   "outputs": [],
   "source": [
    "new_df.shape"
   ]
  },
  {
   "cell_type": "code",
   "execution_count": null,
   "metadata": {},
   "outputs": [],
   "source": []
  }
 ],
 "metadata": {
  "kernelspec": {
   "display_name": "Python 3",
   "language": "python",
   "name": "python3"
  },
  "language_info": {
   "codemirror_mode": {
    "name": "ipython",
    "version": 3
   },
   "file_extension": ".py",
   "mimetype": "text/x-python",
   "name": "python",
   "nbconvert_exporter": "python",
   "pygments_lexer": "ipython3",
   "version": "3.11.2"
  }
 },
 "nbformat": 4,
 "nbformat_minor": 2
}
