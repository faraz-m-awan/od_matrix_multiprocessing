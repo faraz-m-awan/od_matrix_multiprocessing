{
 "cells": [
  {
   "cell_type": "code",
   "execution_count": null,
   "metadata": {},
   "outputs": [],
   "source": [
    "import pandas as pd\n",
    "import geopandas as gpd\n",
    "from shapely.geometry import  Point\n",
    "import os\n",
    "from os.path import  join\n",
    "import numpy as np\n",
    "import json"
   ]
  },
  {
   "cell_type": "code",
   "execution_count": null,
   "metadata": {},
   "outputs": [],
   "source": [
    "shape_file=f'D:\\Mobile Device Data\\Boundries\\latest_boundries\\\\all_processed_boundries\\\\all_boundaries_gcr.gpkg'\n",
    "shape=gpd.read_file(shape_file)\n",
    "shape=shape.to_crs('EPSG:4326')\n",
    "shape.sindex"
   ]
  },
  {
   "cell_type": "code",
   "execution_count": null,
   "metadata": {},
   "outputs": [],
   "source": [
    "def getQuarter(x):\n",
    "    months=x.values\n",
    "    quarters=[]\n",
    "    for month in months:\n",
    "        if month>=1 and month<=3:\n",
    "            quarters.append(1)\n",
    "        elif month>=4 and month<=6:\n",
    "            quarters.append(2)\n",
    "        elif month>=7 and month<=9:\n",
    "            quarters.append(3)\n",
    "        elif month>=10 and month<=12:\n",
    "            quarters.append(4)\n",
    "\n",
    "    return quarters"
   ]
  },
  {
   "cell_type": "code",
   "execution_count": null,
   "metadata": {},
   "outputs": [],
   "source": [
    "dataset='tamoco' # 'tamoco' or 'huq'\n",
    "year=2020\n",
    "month=1\n",
    "radius=500\n",
    "geography_level='council'\n",
    "\n",
    "# calculate the value of quarter based on months value \n",
    "if 1 <= month <= 3:\n",
    "    quarter = 1\n",
    "elif 4 <= month <= 6:\n",
    "    quarter = 2\n",
    "elif 7 <= month <= 9:\n",
    "    quarter = 3\n",
    "elif 10 <= month <= 12:\n",
    "    quarter = 4"
   ]
  },
  {
   "cell_type": "code",
   "execution_count": null,
   "metadata": {},
   "outputs": [],
   "source": [
    "\n",
    "\n",
    "# if quarter==1:\n",
    "#     if year/4==0:\n",
    "#         scaling_days=91\n",
    "#     else:\n",
    "#         scaling_days=90\n",
    "# elif quarter==2:\n",
    "#     scaling_days=91\n",
    "# elif quarter==3 or quarter==4:\n",
    "#     scaling_days=92\n",
    "\n",
    "# gemerate scalling_days for each month\n",
    "scaling_days_per_month=[]\n",
    "for i in range(1,13):\n",
    "    if i==2:\n",
    "        if year%4==0:\n",
    "            scaling_days=29\n",
    "        else:\n",
    "            scaling_days=28\n",
    "    elif i==1 or i==3 or i==5 or i==7 or i==8 or i==10 or i==12:\n",
    "        scaling_days=31\n",
    "    else:\n",
    "        scaling_days=30\n",
    "\n",
    "# Q1=90/91, Q2=91, Q3=92, Q4=92"
   ]
  },
  {
   "cell_type": "code",
   "execution_count": null,
   "metadata": {},
   "outputs": [],
   "source": [
    "if year==2021 or dataset=='tamoco':\n",
    "    root=f'U:\\\\Projects\\\\Tamoco\\Faraz\\\\final_OD_work\\\\{year}\\\\trips'\n",
    "    files=[f'{root}\\\\{f}' for f in os.listdir(root) if str(radius) in f and f.split('_')[3]==f'{month}']\n",
    "    df=[]\n",
    "    for file in files:\n",
    "        df.append(pd.read_csv(file,parse_dates=['org_arival_time','org_leaving_time','dest_arival_time']))\n",
    "\n",
    "    df=pd.concat(df).reset_index(drop=True)\n",
    "else:\n",
    "    fname=f'U:\\\\Projects\\\\Huq\\\\Faraz\\\\final_OD_work\\\\{year}\\\\trips\\\\huq_trips_{year}_all_{radius}m_5min_100m.csv'#f'D:\\Mobile Device Data\\OD_calculation_latest_work\\HUQ_OD\\\\{year}\\\\trips\\\\huq_trips_{year}_all_{radius}m_5min_100m.csv'\n",
    "    df=pd.read_csv(fname,parse_dates=['org_arival_time','org_leaving_time','dest_arival_time'])\n",
    "df"
   ]
  },
  {
   "cell_type": "code",
   "execution_count": null,
   "metadata": {},
   "outputs": [],
   "source": [
    "df['org_arival_time']=pd.to_datetime(df['org_arival_time'],format='mixed')\n",
    "df['org_leaving_time']=pd.to_datetime(df['org_leaving_time'],format='mixed')\n",
    "df['dest_arival_time']=pd.to_datetime(df['dest_arival_time'],format='mixed')"
   ]
  },
  {
   "cell_type": "markdown",
   "metadata": {},
   "source": [
    "# Spatial join for Origin"
   ]
  },
  {
   "cell_type": "code",
   "execution_count": null,
   "metadata": {},
   "outputs": [],
   "source": [
    "geometry=[Point(xy) for xy in zip(df['org_lng'],df['org_lat'])]\n",
    "\n",
    "sp_joined_df=gpd.GeoDataFrame(df,geometry=geometry,crs='EPSG:4326')\n",
    "\n",
    "sp_joined_df.sindex\n",
    "sp_joined_df=gpd.sjoin(sp_joined_df,shape[['council_area_name','geometry']],how='left',predicate='intersects')\n",
    "sp_joined_df.rename(columns={'council_area_name':'origin'},inplace=True)\n",
    "sp_joined_df.drop(columns=['index_right','geometry'],inplace=True)\n",
    "sp_joined_df.reset_index(drop=True,inplace=True)\n",
    "sp_joined_df=pd.DataFrame(sp_joined_df)\n",
    "sp_joined_df"
   ]
  },
  {
   "cell_type": "markdown",
   "metadata": {},
   "source": [
    "# Spatial join for Destination\n"
   ]
  },
  {
   "cell_type": "code",
   "execution_count": null,
   "metadata": {},
   "outputs": [],
   "source": [
    "geometry=[Point(xy) for xy in zip(sp_joined_df['dest_lng'],sp_joined_df['dest_lat'])]\n",
    "\n",
    "sp_joined_df=gpd.GeoDataFrame(sp_joined_df,geometry=geometry,crs='EPSG:4326')\n",
    "\n",
    "sp_joined_df.sindex\n",
    "sp_joined_df=gpd.sjoin(sp_joined_df,shape[['council_area_name','geometry']],how='left',predicate='intersects')\n",
    "sp_joined_df.rename(columns={'council_area_name':'destination'},inplace=True)\n",
    "sp_joined_df.drop(columns=['index_right','geometry'],inplace=True)\n",
    "sp_joined_df.reset_index(drop=True,inplace=True)\n",
    "sp_joined_df=pd.DataFrame(sp_joined_df)\n",
    "sp_joined_df"
   ]
  },
  {
   "cell_type": "code",
   "execution_count": null,
   "metadata": {},
   "outputs": [],
   "source": [
    "geo_df=sp_joined_df.copy()"
   ]
  },
  {
   "cell_type": "markdown",
   "metadata": {},
   "source": [
    "# Filtering trips based on travel time and stay duration"
   ]
  },
  {
   "cell_type": "code",
   "execution_count": null,
   "metadata": {},
   "outputs": [],
   "source": [
    "geo_df=geo_df[(geo_df['dest_arival_time']-geo_df['org_leaving_time']).dt.total_seconds()/3600<=24]\n",
    "geo_df=geo_df[geo_df['stay_duration']<=3600]\n",
    "\n",
    "geo_df['origin'].fillna('Others',inplace=True)\n",
    "geo_df['destination'].fillna('Others',inplace=True)\n",
    "\n",
    "geo_df=geo_df[geo_df['origin']!='Others']\n",
    "geo_df=geo_df[geo_df['destination']!='Others']"
   ]
  },
  {
   "cell_type": "code",
   "execution_count": null,
   "metadata": {},
   "outputs": [],
   "source": [
    "len(geo_df['uid'].unique())"
   ]
  },
  {
   "cell_type": "markdown",
   "metadata": {},
   "source": [
    "# Adding Trip ID"
   ]
  },
  {
   "cell_type": "code",
   "execution_count": null,
   "metadata": {},
   "outputs": [],
   "source": [
    "geo_df=geo_df.assign(trip_id=lambda df: df.groupby(['uid'])['trip_time'].transform(lambda x: [i for i in range(1,len(x)+1)]))\n",
    "\n",
    "geo_df=geo_df[['uid', 'trip_id','org_lat', 'org_lng', 'org_arival_time', 'org_leaving_time',\n",
    "       'dest_lat', 'dest_lng', 'dest_arival_time', 'stay_points',\n",
    "       'trip_points', 'trip_time', 'stay_duration', 'observed_stay_duration',\n",
    "       'origin', 'destination']]\n",
    "geo_df"
   ]
  },
  {
   "cell_type": "markdown",
   "metadata": {},
   "source": [
    "# Calculate Total Trips/User"
   ]
  },
  {
   "cell_type": "code",
   "execution_count": null,
   "metadata": {},
   "outputs": [],
   "source": [
    "geo_df=geo_df.assign(total_trips=lambda df: df.groupby('uid')['trip_id'].transform(lambda x: len(x)))\n",
    "geo_df"
   ]
  },
  {
   "cell_type": "code",
   "execution_count": null,
   "metadata": {},
   "outputs": [],
   "source": [
    "len(geo_df['uid'].unique())"
   ]
  },
  {
   "cell_type": "markdown",
   "metadata": {},
   "source": [
    "# Add Quarter"
   ]
  },
  {
   "cell_type": "code",
   "execution_count": null,
   "metadata": {},
   "outputs": [],
   "source": [
    "geo_df['month']=geo_df['org_leaving_time'].dt.month\n",
    "geo_df['quarter']=geo_df.groupby(['uid','month'])['month'].transform(getQuarter)\n",
    "geo_df.drop(columns=['month'],inplace=True) "
   ]
  },
  {
   "cell_type": "code",
   "execution_count": null,
   "metadata": {},
   "outputs": [],
   "source": [
    "geo_df"
   ]
  },
  {
   "cell_type": "markdown",
   "metadata": {},
   "source": [
    "# Fetch Quarter Data (Monthly in case of Tamoco)"
   ]
  },
  {
   "cell_type": "code",
   "execution_count": null,
   "metadata": {},
   "outputs": [],
   "source": [
    "geo_df=geo_df[geo_df['quarter']==quarter]\n",
    "\n",
    "geo_df"
   ]
  },
  {
   "cell_type": "code",
   "execution_count": null,
   "metadata": {},
   "outputs": [],
   "source": [
    "len(geo_df['uid'].unique())"
   ]
  },
  {
   "cell_type": "markdown",
   "metadata": {},
   "source": [
    "# Calculate Total Quarter Trips"
   ]
  },
  {
   "cell_type": "code",
   "execution_count": null,
   "metadata": {},
   "outputs": [],
   "source": [
    "#geo_df=geo_df.assign(total_quarter_trips=lambda df: df.groupby('uid')['trip_id'].transform(lambda x: len(x)))\n",
    "#geo_df"
   ]
  },
  {
   "cell_type": "markdown",
   "metadata": {},
   "source": [
    "# Add Trips/Active Day"
   ]
  },
  {
   "cell_type": "code",
   "execution_count": null,
   "metadata": {},
   "outputs": [],
   "source": [
    "active_day_df=pd.read_csv(f'U:\\\\Projects\\\\{dataset}\\\\Faraz\\\\final_OD_work\\\\{year}\\\\active_days_stat_{year}_old.csv') #f'D:\\Mobile Device Data\\OD_calculation_latest_work\\HUQ_OD\\\\{year}\\\\active_days_stat_{year}.csv'\n",
    "active_day_df=active_day_df[active_day_df[f'm{month}']>2]\n",
    "active_day_df=active_day_df[['uid',f'm{month}']]\n",
    "active_day_df\n"
   ]
  },
  {
   "cell_type": "code",
   "execution_count": null,
   "metadata": {},
   "outputs": [],
   "source": [
    "geo_df=geo_df[geo_df['uid'].isin(active_day_df['uid'])]\n",
    "geo_df"
   ]
  },
  {
   "cell_type": "code",
   "execution_count": null,
   "metadata": {},
   "outputs": [],
   "source": [
    "len(geo_df['uid'].unique())"
   ]
  },
  {
   "cell_type": "code",
   "execution_count": null,
   "metadata": {},
   "outputs": [],
   "source": [
    "geo_df=(\n",
    "    geo_df.merge(active_day_df,how='left',left_on='uid',right_on='uid')\n",
    "    #.assign(tpad=lambda tdf: tdf['total_quarter_trips']/tdf[f'active_days_q{quarter}'])\n",
    "    .assign(tpad=lambda tdf: tdf['total_trips']/tdf[f'm{month}'])\n",
    "    )\n",
    "geo_df"
   ]
  },
  {
   "cell_type": "markdown",
   "metadata": {},
   "source": [
    "# Add Year and Distance Threshold (radius)"
   ]
  },
  {
   "cell_type": "code",
   "execution_count": null,
   "metadata": {},
   "outputs": [],
   "source": [
    "geo_df=geo_df.assign(year=year,distance_threshold=radius)\n",
    "geo_df"
   ]
  },
  {
   "cell_type": "code",
   "execution_count": null,
   "metadata": {},
   "outputs": [],
   "source": [
    "geo_df.columns"
   ]
  },
  {
   "cell_type": "markdown",
   "metadata": {},
   "source": [
    "# Add SIMD Level"
   ]
  },
  {
   "cell_type": "code",
   "execution_count": null,
   "metadata": {},
   "outputs": [],
   "source": [
    "hlfile=f'U:\\\\Projects\\\\{dataset.title()}\\\\Faraz\\\\final_OD_work\\\\homelocations\\\\homelocations_{dataset}_{year}_subset_joined.csv'\n",
    "hldf=pd.read_csv(hlfile)\n",
    "\n",
    "geo_df=(\n",
    "    geo_df.merge(hldf[['Device_iid_hash','simd_quintile']],left_on='uid', right_on='Device_iid_hash',how='left')\n",
    "    .drop(columns=['Device_iid_hash'])[[\n",
    "        'year',\n",
    "        'quarter',\n",
    "        'distance_threshold',\n",
    "        'uid', \n",
    "        'simd_quintile',\n",
    "        'trip_id',\n",
    "        'org_lat',\n",
    "        'org_lng',\n",
    "        'org_arival_time',\n",
    "        'org_leaving_time', \n",
    "        'dest_lat', \n",
    "        'dest_lng',\n",
    "        'origin',\n",
    "        'destination',\n",
    "        'dest_arival_time',\n",
    "        'stay_points',\n",
    "        'trip_points',\n",
    "        'trip_time',\n",
    "        'stay_duration',\n",
    "       'observed_stay_duration', \n",
    "       'total_trips',\n",
    "       #'total_quarter_trips', \n",
    "       #'active_days_q1', \n",
    "       #'active_days_q2',\n",
    "       #'active_days_q3', \n",
    "       #'active_days_q4', \n",
    "       #'total_active_days', \n",
    "       f'm{month}',\n",
    "       'tpad'\n",
    "    ]]\n",
    ")\n",
    "\n",
    "geo_df"
   ]
  },
  {
   "cell_type": "markdown",
   "metadata": {},
   "source": [
    "# Add Travel Mode Placeholder"
   ]
  },
  {
   "cell_type": "code",
   "execution_count": null,
   "metadata": {},
   "outputs": [],
   "source": [
    "geo_df=geo_df.assign(travel_mode=np.nan)"
   ]
  },
  {
   "cell_type": "markdown",
   "metadata": {},
   "source": [
    "# Filtering based on number of active days and trips/active day"
   ]
  },
  {
   "cell_type": "code",
   "execution_count": null,
   "metadata": {},
   "outputs": [],
   "source": [
    "geo_df=geo_df[(geo_df[f'm{month}']>=3)&(geo_df['tpad']>=0.2)]\n",
    "\n",
    "geo_df"
   ]
  },
  {
   "cell_type": "code",
   "execution_count": null,
   "metadata": {},
   "outputs": [],
   "source": [
    "len(geo_df['uid'].unique())"
   ]
  },
  {
   "cell_type": "markdown",
   "metadata": {},
   "source": [
    "# Get number of Trips between orgins and destination for individual users"
   ]
  },
  {
   "cell_type": "code",
   "execution_count": null,
   "metadata": {},
   "outputs": [],
   "source": [
    "od_trip_df=pd.DataFrame(geo_df.groupby(['uid','origin','destination']).apply(lambda x: len(x)),columns=['trips']).reset_index()\n",
    "\n",
    "od_trip_df=(\n",
    "    od_trip_df.merge(active_day_df,how='left',left_on='uid',right_on='uid')\n",
    "    #.assign(tpad=lambda tdf: tdf['trips']/tdf[f'active_days_q{quarter}'])\n",
    "    .assign(tpad=lambda tdf: tdf['trips']/tdf[f'm{month}'])\n",
    "    )\n",
    "\n",
    "od_trip_df"
   ]
  },
  {
   "cell_type": "markdown",
   "metadata": {},
   "source": [
    "# Weighting and Extrapolation Using Active Days Data\n",
    "## Calculate SIMD and Council Weights"
   ]
  },
  {
   "cell_type": "code",
   "execution_count": null,
   "metadata": {},
   "outputs": [],
   "source": [
    "hlfile=f'U:\\\\Projects\\\\{dataset.title()}\\\\Faraz\\\\final_OD_work\\\\homelocations\\\\homelocations_{dataset}_{year}_subset_joined.csv'\n",
    "hldf=pd.read_csv(hlfile)\n",
    "\n",
    "od_trip_df=pd.merge(od_trip_df,hldf[['Device_iid_hash','council','simd_quintile']],how='left',left_on='uid',right_on='Device_iid_hash').drop(columns=['Device_iid_hash'])\n",
    "od_trip_df"
   ]
  },
  {
   "cell_type": "markdown",
   "metadata": {},
   "source": [
    "# Calculating Weights Based in Adult Population and HUQ Population"
   ]
  },
  {
   "cell_type": "code",
   "execution_count": null,
   "metadata": {},
   "outputs": [],
   "source": [
    "adult_population = pd.read_csv(f\"D:\\Mobile Device Data\\OD_calculation_latest_work\\\\aux_files\\\\adultpopulation.csv\")\n",
    "\n",
    "annual_users=(\n",
    "    od_trip_df.dropna(subset=['simd_quintile'])\n",
    "    .groupby(['council', 'simd_quintile'])\n",
    "    .agg(users=('uid', 'nunique'))\n",
    "    .reset_index()\n",
    "    .merge(adult_population, left_on=['council', 'simd_quintile'], right_on=['council', 'simd_quintile'], how='left')\n",
    "    .groupby('council')\n",
    "    #.apply(lambda group: group.assign(Huq_percent=group['users'] / group['users'].sum()))\n",
    "    .apply(lambda group: group.assign(tamoco_percent=group['users'] / group['users'].sum()))\n",
    "    .reset_index(drop=True)\n",
    "    .assign(simd_weight=lambda df: df['percentage'] / df['tamoco_percent'])\n",
    "    .groupby('council')\n",
    "    .apply(lambda group: group.assign(total_pop=group['Total'].sum(), tamoco_pop=group['users'].sum()))\n",
    "    .reset_index(drop=True)\n",
    "    .assign(council_weight=lambda df: (df['total_pop'] / df['Total'].sum()) / (df['tamoco_pop'] / df['users'].sum()))\n",
    "    \n",
    "    )\n",
    "annual_users=annual_users[\n",
    "    ['council', \n",
    "    'simd_quintile', \n",
    "    'users', 'Total', \n",
    "    'percentage',\n",
    "    #'Huq_percent', \n",
    "    'tamoco_percent',\n",
    "    'total_pop', \n",
    "    #'huq_pop', \n",
    "    'tamoco_pop',\n",
    "    'simd_weight', \n",
    "    'council_weight']\n",
    "       ]\n",
    "annual_users"
   ]
  },
  {
   "cell_type": "code",
   "execution_count": null,
   "metadata": {},
   "outputs": [],
   "source": [
    "annual_users=annual_users.rename(columns={\n",
    "    'users':'tamoco_user_simd_level',\n",
    "    'Total':'adult_pop_simd_level',\n",
    "    'percentage':'adult_pop_percentage_simd_level',\n",
    "    'tamoco_percent':'tamoco_users_percentage_simd_level',\n",
    "    'total_pop':'adult_pop_council_level',\n",
    "    'tamoco_pop':'tamoco_users_council_level',\n",
    "})\n",
    "annual_users"
   ]
  },
  {
   "cell_type": "markdown",
   "metadata": {},
   "source": [
    "# Calculating Weighted and Extrapolated OD Trips"
   ]
  },
  {
   "cell_type": "code",
   "execution_count": null,
   "metadata": {},
   "outputs": [],
   "source": [
    "od_trip_df=od_trip_df.merge(annual_users[['council','simd_quintile','simd_weight','council_weight']],how='left',on=['council','simd_quintile'])\n",
    "od_trip_df['simd_weight']=od_trip_df['simd_weight'].fillna(1)\n",
    "od_trip_df['council_weight']=od_trip_df['council_weight'].fillna(1)\n",
    "od_trip_df"
   ]
  },
  {
   "cell_type": "markdown",
   "metadata": {},
   "source": [
    "## Saving Weight File"
   ]
  },
  {
   "cell_type": "code",
   "execution_count": null,
   "metadata": {},
   "outputs": [],
   "source": [
    "od_trip_df[['uid','simd_quintile','simd_weight','council_weight']].to_csv(f'U:\\\\Projects\\\\Tamoco\\\\Faraz\\\\final_OD_work\\\\{year}\\\\od_weights\\\\user_simd_council_od_weights_month{month}.csv',index=False)"
   ]
  },
  {
   "cell_type": "markdown",
   "metadata": {},
   "source": [
    "# Counting Trips with different Weightings"
   ]
  },
  {
   "cell_type": "code",
   "execution_count": null,
   "metadata": {},
   "outputs": [],
   "source": [
    "#od_trip_df=od_trip_df.assign(weighted_trips=lambda d: ((d['trips']*d['simd_weight']*d['council_weight'])/d[f'active_days_q{quarter}'])*scaling_days)\n",
    "#od_trip_df\n",
    "\n",
    "od_trip_df=od_trip_df.assign(activity_weighted_trips=lambda d: ((d['trips'])/d[f'm{month}'])*scaling_days)\n",
    "od_trip_df=od_trip_df.assign(council_weighted_trips=lambda d: (d['trips']*d['simd_weight']*d['council_weight']))\n",
    "od_trip_df=od_trip_df.assign(act_cncl_weighted_trips=lambda d: ((d['trips']*d['simd_weight']*d['council_weight'])/d[f'm{month}'])*scaling_days)"
   ]
  },
  {
   "cell_type": "markdown",
   "metadata": {},
   "source": [
    "# Final Data Products\n",
    "\n",
    "## OD Data"
   ]
  },
  {
   "cell_type": "code",
   "execution_count": null,
   "metadata": {},
   "outputs": [],
   "source": [
    "tamoco_population=len(od_trip_df['uid'].unique())\n",
    "adult_population=adult_population['Total'].sum()\n",
    "tamoco_population\n",
    "adult_population"
   ]
  },
  {
   "cell_type": "code",
   "execution_count": null,
   "metadata": {},
   "outputs": [],
   "source": [
    "od_tdf=od_trip_df.groupby(['origin','destination'])[['trips','activity_weighted_trips','council_weighted_trips','act_cncl_weighted_trips']].sum().round().reset_index()\n",
    "od_tdf=od_tdf.assign(year=lambda df: [year for i in range(0,df.shape[0])])\n",
    "od_tdf=od_tdf.assign(geography_level=lambda df: ['council_level' for i in range(0,df.shape[0])])\n",
    "od_tdf=od_tdf.assign(distance_threshold=lambda df: [radius for i in range(0,df.shape[0])])\n"
   ]
  },
  {
   "cell_type": "code",
   "execution_count": null,
   "metadata": {},
   "outputs": [],
   "source": [
    "od_tdf=od_tdf[['year','geography_level','distance_threshold','origin','destination','trips','activity_weighted_trips','council_weighted_trips','act_cncl_weighted_trips']]\n",
    "od_tdf"
   ]
  },
  {
   "cell_type": "markdown",
   "metadata": {},
   "source": [
    "# Applying Global Scaling"
   ]
  },
  {
   "cell_type": "code",
   "execution_count": null,
   "metadata": {},
   "outputs": [],
   "source": [
    "pd.set_option('display.float_format', lambda x: '%.3f' % x)\n",
    "    \n",
    "    \n",
    "# trip_col='trips'\n",
    "# od_tdf=od_tdf.assign(exp_unweighted_trips=lambda df: (df[trip_col]/huq_population)*adult_population)\n",
    "\n",
    "\n",
    "# trip_col='activity_weighted_trips'\n",
    "# od_tdf=od_tdf.assign(exp_weighted_trips=lambda df: (df[trip_col]/huq_population)*adult_population)\n",
    "\n",
    "# trip_col='council_weighted_trips'\n",
    "# od_tdf=od_tdf.assign(exp_weighted_trips=lambda df: (df[trip_col]/huq_population)*adult_population)\n",
    "\n",
    "# trip_col='act_cncl_weighted_trips'\n",
    "# od_tdf=od_tdf.assign(exp_weighted_trips=lambda df: (df[trip_col]/huq_population)*adult_population)\n",
    "\n",
    "#trip_col='trips'\n",
    "#od_tdf[trip_col]=(od_tdf[trip_col]/huq_population)*adult_population\n",
    "\n",
    "trip_col='activity_weighted_trips'\n",
    "od_tdf[trip_col]=(od_tdf[trip_col]/tamoco_population)*adult_population\n",
    "\n",
    "trip_col='council_weighted_trips'\n",
    "od_tdf[trip_col]=(od_tdf[trip_col]/tamoco_population)*adult_population\n",
    "\n",
    "trip_col='act_cncl_weighted_trips'\n",
    "od_tdf[trip_col]=(od_tdf[trip_col]/tamoco_population)*adult_population\n",
    "\n",
    "\n",
    "od_tdf"
   ]
  },
  {
   "cell_type": "code",
   "execution_count": null,
   "metadata": {},
   "outputs": [],
   "source": [
    "#path=f'U:\\Projects\\Huq\\Faraz\\\\final_OD_work\\\\{year}\\od_matrix' #f'D:\\Mobile Device Data\\OD_calculation_latest_work\\HUQ_OD\\\\{year}\\od_matrix'    \n",
    "path=f'U:\\\\Projects\\\\{dataset.title()}\\\\Faraz\\\\final_OD_work\\\\{year}\\\\od_matrix'\n",
    "fname=f'od_{geography_level}_{radius}m_{year}_m{month}.csv'\n",
    "\n",
    "if not os.path.exists(path):\n",
    "    os.makedirs(path)\n",
    "\n",
    "\n",
    "od_tdf.to_csv(join(path,fname),index=False)"
   ]
  },
  {
   "cell_type": "code",
   "execution_count": null,
   "metadata": {},
   "outputs": [],
   "source": []
  },
  {
   "cell_type": "code",
   "execution_count": null,
   "metadata": {},
   "outputs": [],
   "source": []
  },
  {
   "cell_type": "code",
   "execution_count": null,
   "metadata": {},
   "outputs": [],
   "source": []
  },
  {
   "cell_type": "code",
   "execution_count": null,
   "metadata": {},
   "outputs": [],
   "source": []
  },
  {
   "cell_type": "code",
   "execution_count": null,
   "metadata": {},
   "outputs": [],
   "source": []
  },
  {
   "cell_type": "code",
   "execution_count": null,
   "metadata": {},
   "outputs": [],
   "source": []
  },
  {
   "cell_type": "code",
   "execution_count": null,
   "metadata": {},
   "outputs": [],
   "source": []
  },
  {
   "cell_type": "code",
   "execution_count": null,
   "metadata": {},
   "outputs": [],
   "source": []
  },
  {
   "cell_type": "code",
   "execution_count": null,
   "metadata": {},
   "outputs": [],
   "source": []
  },
  {
   "cell_type": "code",
   "execution_count": null,
   "metadata": {},
   "outputs": [],
   "source": []
  },
  {
   "cell_type": "code",
   "execution_count": null,
   "metadata": {},
   "outputs": [],
   "source": []
  },
  {
   "cell_type": "code",
   "execution_count": null,
   "metadata": {},
   "outputs": [],
   "source": []
  },
  {
   "cell_type": "code",
   "execution_count": null,
   "metadata": {},
   "outputs": [],
   "source": []
  },
  {
   "cell_type": "code",
   "execution_count": null,
   "metadata": {},
   "outputs": [],
   "source": []
  },
  {
   "cell_type": "code",
   "execution_count": null,
   "metadata": {},
   "outputs": [],
   "source": []
  },
  {
   "cell_type": "code",
   "execution_count": null,
   "metadata": {},
   "outputs": [],
   "source": []
  },
  {
   "cell_type": "code",
   "execution_count": null,
   "metadata": {},
   "outputs": [],
   "source": []
  },
  {
   "cell_type": "code",
   "execution_count": null,
   "metadata": {},
   "outputs": [],
   "source": []
  },
  {
   "cell_type": "code",
   "execution_count": null,
   "metadata": {},
   "outputs": [],
   "source": []
  },
  {
   "cell_type": "code",
   "execution_count": null,
   "metadata": {},
   "outputs": [],
   "source": []
  },
  {
   "cell_type": "code",
   "execution_count": null,
   "metadata": {},
   "outputs": [],
   "source": []
  },
  {
   "cell_type": "code",
   "execution_count": null,
   "metadata": {},
   "outputs": [],
   "source": []
  },
  {
   "cell_type": "code",
   "execution_count": null,
   "metadata": {},
   "outputs": [],
   "source": []
  },
  {
   "cell_type": "code",
   "execution_count": null,
   "metadata": {},
   "outputs": [],
   "source": []
  },
  {
   "cell_type": "code",
   "execution_count": null,
   "metadata": {},
   "outputs": [],
   "source": []
  }
 ],
 "metadata": {
  "kernelspec": {
   "display_name": "skmob",
   "language": "python",
   "name": "python3"
  },
  "language_info": {
   "codemirror_mode": {
    "name": "ipython",
    "version": 3
   },
   "file_extension": ".py",
   "mimetype": "text/x-python",
   "name": "python",
   "nbconvert_exporter": "python",
   "pygments_lexer": "ipython3",
   "version": "3.11.2"
  }
 },
 "nbformat": 4,
 "nbformat_minor": 2
}
