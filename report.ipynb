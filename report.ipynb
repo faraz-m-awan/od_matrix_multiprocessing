{
 "cells": [
  {
   "cell_type": "code",
   "execution_count": null,
   "metadata": {},
   "outputs": [],
   "source": [
    "import pandas as pd\n",
    "import geopandas as gpd\n",
    "import matplotlib.pyplot as plt\n",
    "from matplotlib.colors import Normalize\n",
    "from matplotlib.cm import ScalarMappable\n",
    "from matplotlib.colors import LinearSegmentedColormap\n",
    "import matplotlib.colors as mcolors\n",
    "from matplotlib.colorbar import ColorbarBase\n",
    "import plotly.graph_objs as go\n",
    "from plotly.subplots import make_subplots\n",
    "import plotly.io as pio\n",
    "from IPython.display import HTML\n",
    "from folium import IFrame\n",
    "import os\n",
    "from tqdm import tqdm\n",
    "import numpy as np\n",
    "plt.style.use('ggplot')\n"
   ]
  },
  {
   "cell_type": "code",
   "execution_count": null,
   "metadata": {},
   "outputs": [],
   "source": [
    "gcc=gpd.read_file(f'D:\\\\Mobile Device Data\\\\Boundries\\\\latest_boundries\\\\all_processed_boundries\\\\all_boundaries_gcr.gpkg')\n",
    "gcc_iz_id=gcc.groupby('iz_id')['geometry'].apply(lambda x: x.unary_union).reset_index()\n",
    "gcc_iz_name=gcc.groupby('iz_name')['geometry'].apply(lambda x: x.unary_union).reset_index()\n",
    "gcc_iz_id.set_index\n",
    "gcc_iz_name.set_index\n",
    "pass"
   ]
  },
  {
   "cell_type": "markdown",
   "metadata": {},
   "source": [
    "# Load Analysis Files"
   ]
  },
  {
   "cell_type": "code",
   "execution_count": null,
   "metadata": {},
   "outputs": [],
   "source": [
    "\n",
    "radius=500\n",
    "\n",
    "year=2019\n",
    "fname=f'U:\\\\Projects\\\\Huq\\\\Faraz\\\\final_OD_work\\\\{year}\\\\trip_analysis_iz_{radius}m_{year}.csv'\n",
    "df_2019=pd.read_csv(fname,index_col=0)\n",
    "\n",
    "\n",
    "year=2020\n",
    "fname=f'U:\\\\Projects\\\\Huq\\\\Faraz\\\\final_OD_work\\\\{year}\\\\trip_analysis_iz_{radius}m_{year}.csv'\n",
    "df_2020=pd.read_csv(fname,index_col=0)\n",
    "\n",
    "\n",
    "year=2021\n",
    "fname=f'U:\\\\Projects\\\\Huq\\\\Faraz\\\\final_OD_work\\\\{year}\\\\trip_analysis_iz_{radius}m_{year}.csv'\n",
    "df_2021=pd.read_csv(fname,index_col=0)\n",
    "\n",
    "year=2022\n",
    "fname=f'U:\\\\Projects\\\\Huq\\\\Faraz\\\\final_OD_work\\\\{year}\\\\trip_analysis_iz_{radius}m_{year}.csv'\n",
    "df_2022=pd.read_csv(fname,index_col=0)\n"
   ]
  },
  {
   "cell_type": "markdown",
   "metadata": {},
   "source": [
    "# Representativeness\n",
    "We computed Origin-Destination (OD) matrices for both Council Level and Intermediate Zone level. Intermediate Zone provides a finer-grained geographical resolution, resulting in the detection of trips by an unrepresentative number of users. As illustrated in the figure below, there are a total of 173,889 possible OD pairs at the Intermediate Zone level. However, only 45487, 83958, 92970, and 57,533 OD pairs having detected trips in 2019, 2020, 2021, and 2022, respectively. Moreover, in 2019, out of the 45,487 OD pairs with detected trips, the number of trips for 36,252 OD pairs was made by fewer than 5 users. For OD pairs with only 1 user, this number stands at 21,126, highlighting a significant representativeness issue. This trend persists across the subsequent years, as depicted in the figure below.\n",
    "\n",
    "\n",
    "\n",
    "\n"
   ]
  },
  {
   "cell_type": "code",
   "execution_count": null,
   "metadata": {},
   "outputs": [],
   "source": [
    "df_collection=[\n",
    "    [df_2019,df_2020],\n",
    "    [df_2021,df_2022]\n",
    "    ]\n",
    "year=[\n",
    "    ['2019','2020'],\n",
    "    ['2021','2022']\n",
    "]\n",
    "\n",
    "fig,ax= plt.subplots(2,2,figsize=(15,10),sharex='col')\n",
    "plt.subplots_adjust(wspace=0.5,hspace=0.1)\n",
    "\n",
    "for i in range(2):\n",
    "    for j in range(2):\n",
    "\n",
    "        y=[(417*417),df_collection[i][j].shape[0],df_collection[i][j][df_collection[i][j]['num_users']<=5].shape[0],df_collection[i][j][df_collection[i][j]['num_users']==1].shape[0]]\n",
    "        x=['Total OD Pairs','Detected OD Pairs','OD Pairs trips by users<=5','OD Pairs  trips by users==1']\n",
    "\n",
    "        bars=ax[i][j].bar(x,y)\n",
    "        ax[i][j].set_title(year[i][j])\n",
    "\n",
    "        # Add values on top of the bars\n",
    "        for bar, value in zip(bars, y):\n",
    "            height = bar.get_height()\n",
    "            ax[i][j].text(bar.get_x() + bar.get_width() / 2, height, f'{value}', ha='center', va='bottom')\n",
    "        \n",
    "        ax[i][j].set_xticks(range(len(x)))\n",
    "        ax[i][j].set_xticklabels(x, rotation=60, ha='center')\n",
    " \n",
    "plt.show()\n"
   ]
  },
  {
   "cell_type": "code",
   "execution_count": null,
   "metadata": {},
   "outputs": [],
   "source": [
    "comb_df=df_2019.merge(df_2020,how='outer',on=['origin_iz_id','destination_iz_id'],suffixes=('_2019', '_2020'))\n",
    "comb_df=comb_df.merge(df_2021,how='outer',on=['origin_iz_id','destination_iz_id'])\n",
    "\n",
    "comb_df.rename(columns={'total_trips':'total_trips_2021'},inplace=True)\n",
    "comb_df.rename(columns={'num_users':'num_users_2021'},inplace=True)\n",
    "\n",
    "comb_df=comb_df.merge(df_2022,how='outer',on=['origin_iz_id','destination_iz_id'])\n",
    "comb_df.rename(columns={'total_trips':'total_trips_2022'},inplace=True)\n",
    "comb_df.rename(columns={'num_users':'num_users_2022'},inplace=True)\n",
    "\n",
    "\n",
    "\n",
    "comb_df['avg_trips']=(comb_df['total_trips_2019']+comb_df['total_trips_2020']+comb_df['total_trips_2021']+comb_df['total_trips_2022'])/4\n",
    "comb_df['avg_num_users']=(comb_df['num_users_2019']+comb_df['num_users_2020']+comb_df['num_users_2021']+comb_df['num_users_2022'])/4"
   ]
  },
  {
   "cell_type": "markdown",
   "metadata": {},
   "source": [
    "To address this issue, we calculated the average number of trips for each Origin-Destination (OD) pair over the four-year period spanning from 2019 to 2022. As a result of this averaging process, we observed that the number of trips was available for 115,923 OD pairs out of the total 173,889 OD pairs. Additionally, the count of OD pairs with lower representativeness noticeably decreased after implementing this averaging approach."
   ]
  },
  {
   "cell_type": "code",
   "execution_count": null,
   "metadata": {},
   "outputs": [],
   "source": [
    "fig,ax=plt.subplots(1,1,figsize=(10,5))\n",
    "y=[(417*417),comb_df.shape[0],comb_df[comb_df['avg_num_users']<=5].shape[0],comb_df[comb_df['avg_num_users']==1].shape[0]]\n",
    "x=['Total OD Pairs','Detected OD Pairs','OD Pairs trips by users<=5','OD Pairs  trips by users==1']\n",
    "\n",
    "bars=ax.bar(x,y)\n",
    "# Add values on top of the bars\n",
    "for bar, value in zip(bars, y):\n",
    "    height = bar.get_height()\n",
    "    ax.text(bar.get_x() + bar.get_width() / 2, height, f'{value}', ha='center', va='bottom')\n",
    "ax.set_xticks(range(len(x)))\n",
    "ax.set_xticklabels(x, rotation=60, ha='center')\n",
    "plt.show()\n"
   ]
  },
  {
   "cell_type": "code",
   "execution_count": null,
   "metadata": {},
   "outputs": [],
   "source": [
    "od_2022=pd.read_csv(f'U:\\Projects\\Huq\\Faraz\\\\final_OD_work\\\\2022\\od_matrix\\\\expended_type5_od_iz_500m_2022.csv')\n",
    "od_2022=od_2022[['origin','destination','act_cncl_weighted_trips']]\n"
   ]
  },
  {
   "cell_type": "code",
   "execution_count": null,
   "metadata": {},
   "outputs": [],
   "source": [
    "avg_od=pd.read_csv(f'U:\\Projects\\Huq\\Faraz\\\\final_OD_work\\\\avg_type5_od_iz_500m_avg.csv')\n",
    "avg_od=avg_od[['origin','destination','act_cncl_weighted_trips']]\n"
   ]
  },
  {
   "cell_type": "code",
   "execution_count": null,
   "metadata": {},
   "outputs": [],
   "source": [
    "from_od_2022=od_2022.groupby('origin').agg({'act_cncl_weighted_trips':'sum'}).reset_index()\n",
    "from_od_2022['percentage']=from_od_2022['act_cncl_weighted_trips']/from_od_2022['act_cncl_weighted_trips'].sum()*100\n",
    "from_od_2022"
   ]
  },
  {
   "cell_type": "code",
   "execution_count": null,
   "metadata": {},
   "outputs": [],
   "source": [
    "# From OD 2022\n",
    "from_od_2022=od_2022.groupby('origin').agg({'act_cncl_weighted_trips':'sum'}).reset_index()\n",
    "#from_od_2022['act_cncl_weighted_trips']=np.log(from_od_2022['act_cncl_weighted_trips'])\n",
    "from_od_2022['percentage']=from_od_2022['act_cncl_weighted_trips']/from_od_2022['act_cncl_weighted_trips'].sum()*100\n",
    "from_od_2022=gpd.GeoDataFrame(from_od_2022.merge(gcc_iz_id[['iz_id','geometry']],how='left',left_on='origin',right_on='iz_id'),geometry='geometry')\n",
    "from_od_2022.drop_duplicates(subset=['origin','act_cncl_weighted_trips'],inplace=True)\n",
    "from_od_2022.sindex\n",
    "\n",
    "# From Avg OD\n",
    "from_avg_od=avg_od.groupby('origin').agg({'act_cncl_weighted_trips':'sum'}).reset_index()\n",
    "#from_avg_od['act_cncl_weighted_trips']=np.log(from_avg_od['act_cncl_weighted_trips'])\n",
    "from_avg_od['percentage']=from_avg_od['act_cncl_weighted_trips']/from_od_2022['act_cncl_weighted_trips'].sum()*100\n",
    "from_avg_od=gpd.GeoDataFrame(from_avg_od.merge(gcc_iz_name[['iz_name','geometry']],how='left',left_on='origin',right_on='iz_name'),geometry='geometry')\n",
    "from_avg_od.drop_duplicates(subset=['origin','act_cncl_weighted_trips'],inplace=True)\n",
    "from_avg_od.sindex\n",
    "\n",
    "\n",
    "\n",
    "# Create color normalization\n",
    "norm = mcolors.Normalize(vmin=min(from_od_2022['percentage'].min(), from_avg_od['percentage'].min()), \n",
    "                          vmax=max(from_od_2022['percentage'].max(), from_avg_od['percentage'].max()))\n",
    "                        \n",
    "fig,ax=plt.subplots(1,2,figsize=(30,10))\n",
    "from_od_2022.plot(ax=ax[0],column='percentage',cmap='coolwarm', linewidth=0.8,legend=True,norm=norm)\n",
    "ax[0].set_title('Outgoing Trips 2022')\n",
    "\n",
    "from_avg_od.plot(ax=ax[1],column='percentage',cmap='coolwarm', linewidth=0.8,legend=True, norm=norm)\n",
    "ax[1].set_title('Outgoing Trips Avg')\n",
    "\n",
    "\n",
    "\n",
    "plt.show()\n",
    "\n"
   ]
  },
  {
   "cell_type": "markdown",
   "metadata": {},
   "source": [
    "# OD Products\n",
    "\n",
    "**Producing 5 Types of OD Matrices**\n",
    "- Type 1: AM peak weekdays (7am-10am)\n",
    "- Type 2: PM peak weekdays (4 pm-7 pm)\n",
    "- Type 3: Interpeak weekdays (10 am–2 pm) \n",
    "- Type 4: Interpeak weekends  (10am–2pm)\n",
    "- Type 5: Others"
   ]
  },
  {
   "cell_type": "code",
   "execution_count": null,
   "metadata": {},
   "outputs": [],
   "source": [
    "fname=f'U:\\Projects\\Huq\\Faraz\\\\final_OD_work\\\\avg_type1_od_iz_200m_avg.csv'\n",
    "df=pd.read_csv(fname)\n",
    "df.drop(columns=['year','distance_threshold','geography_level','percentage'],inplace=True)\n",
    "numeric_cols = df.select_dtypes(include=['float64','int64']).columns\n",
    "perc_cols=['perc_trips','perc_activity_weighted_trips','perc_council_weighted_trips','perc_act_cncl_weighted_trips']\n",
    "numeric_cols=[x for x in numeric_cols if x not in perc_cols]\n",
    "df[numeric_cols] = df[numeric_cols].round().astype(int)\n"
   ]
  },
  {
   "cell_type": "code",
   "execution_count": null,
   "metadata": {},
   "outputs": [],
   "source": [
    "df=df[['origin', 'destination',\n",
    "       'perc_act_cncl_weighted_trips']]\n",
    "df.rename(columns={'perc_act_cncl_weighted_trips':'trip_percentage'},inplace=True)\n",
    "df"
   ]
  },
  {
   "cell_type": "markdown",
   "metadata": {},
   "source": [
    "## Empty OD Pairs in New Data Product"
   ]
  },
  {
   "cell_type": "code",
   "execution_count": null,
   "metadata": {},
   "outputs": [],
   "source": [
    "radius=500\n",
    "types=['type1','type2','type3','type4']\n",
    "df=[]\n",
    "for t in types:\n",
    "    fname=f'U:\\Projects\\Huq\\Faraz\\\\final_OD_work\\\\avg_{t}_od_iz_{radius}m_avg.csv'\n",
    "    tdf=pd.read_csv(fname)\n",
    "    tdf['od_type']=t\n",
    "    tdf=tdf[['od_type','origin', 'destination',\n",
    "       'perc_act_cncl_weighted_trips']]\n",
    "    df.append(tdf)\n",
    "    \n",
    "df=pd.concat(df)\n",
    "df\n"
   ]
  },
  {
   "cell_type": "code",
   "execution_count": null,
   "metadata": {},
   "outputs": [],
   "source": [
    "# for each od_type, calculate the percentage of 0 perc_act_cncl_weighted_trips\n",
    "df.groupby('od_type').agg({'perc_act_cncl_weighted_trips':lambda x: round((x==0).sum()/x.shape[0]*100,2)}).reset_index().rename(columns={'perc_act_cncl_weighted_trips':'perc_od_pairs_with_0_trips'})"
   ]
  },
  {
   "cell_type": "code",
   "execution_count": null,
   "metadata": {},
   "outputs": [],
   "source": []
  }
 ],
 "metadata": {
  "kernelspec": {
   "display_name": "Python 3",
   "language": "python",
   "name": "python3"
  },
  "language_info": {
   "codemirror_mode": {
    "name": "ipython",
    "version": 3
   },
   "file_extension": ".py",
   "mimetype": "text/x-python",
   "name": "python",
   "nbconvert_exporter": "python",
   "pygments_lexer": "ipython3",
   "version": "3.11.2"
  }
 },
 "nbformat": 4,
 "nbformat_minor": 2
}
